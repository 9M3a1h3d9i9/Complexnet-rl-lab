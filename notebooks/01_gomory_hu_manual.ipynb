{
 "cells": [
  {
   "cell_type": "markdown",
   "id": "6533b61e",
   "metadata": {},
   "source": [
    "# In the name of Allah\n",
    "\n",
    "### MmSh . 2025.10.25 . Gomory-Hu Manual "
   ]
  },
  {
   "cell_type": "markdown",
   "id": "a12ae3f2",
   "metadata": {},
   "source": [
    "هدف این نوت‌بوک: \n",
    "\n",
    "\n",
    "پیاده‌سازی دستی الگوریتم ادمون-کارپ برای \"ماکزیمم جریان - مینیم برش\" و سپس الگوریتم گوموری–هو، روی یک گراف 15 نودی، بدون استفاده از کتابخانه‌های گراف آماده."
   ]
  },
  {
   "cell_type": "markdown",
   "id": "ed4f0283",
   "metadata": {},
   "source": []
  },
  {
   "cell_type": "code",
   "execution_count": 1,
   "id": "044a8687",
   "metadata": {},
   "outputs": [
    {
     "name": "stdout",
     "output_type": "stream",
     "text": [
      "test\n",
      "Second tist\n"
     ]
    }
   ],
   "source": [
    "print(\"test\")\n",
    "print(\"Second tist\")"
   ]
  },
  {
   "cell_type": "code",
   "execution_count": 2,
   "id": "d926580e",
   "metadata": {},
   "outputs": [
    {
     "name": "stdout",
     "output_type": "stream",
     "text": [
      "\n",
      "\n"
     ]
    }
   ],
   "source": [
    "print(\"\")\n",
    "print(\"\")"
   ]
  },
  {
   "cell_type": "markdown",
   "id": "f3c055b0",
   "metadata": {},
   "source": [
    "#"
   ]
  },
  {
   "cell_type": "code",
   "execution_count": null,
   "id": "b9bb0bd3",
   "metadata": {},
   "outputs": [],
   "source": []
  }
 ],
 "metadata": {
  "kernelspec": {
   "display_name": "venv (3.11.9)",
   "language": "python",
   "name": "python3"
  },
  "language_info": {
   "codemirror_mode": {
    "name": "ipython",
    "version": 3
   },
   "file_extension": ".py",
   "mimetype": "text/x-python",
   "name": "python",
   "nbconvert_exporter": "python",
   "pygments_lexer": "ipython3",
   "version": "3.11.9"
  }
 },
 "nbformat": 4,
 "nbformat_minor": 5
}
