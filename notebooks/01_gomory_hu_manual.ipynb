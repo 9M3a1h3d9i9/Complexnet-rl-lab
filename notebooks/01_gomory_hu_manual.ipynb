{
 "cells": [
  {
   "cell_type": "markdown",
   "id": "6533b61e",
   "metadata": {},
   "source": [
    "# In the name of Allah\n",
    "\n",
    "### MmSh . 2025.10.25 . Gomory-Hu Manual "
   ]
  },
  {
   "cell_type": "markdown",
   "id": "a12ae3f2",
   "metadata": {},
   "source": [
    "هدف این نوت‌بوک: \n",
    "\n",
    "\n",
    "پیاده‌سازی دستی الگوریتم ادمون-کارپ برای \"ماکزیمم جریان - مینیم برش\" و سپس الگوریتم گوموری–هو، روی یک گراف 15 نودی، بدون استفاده از کتابخانه‌های گراف آماده."
   ]
  },
  {
   "cell_type": "markdown",
   "id": "ed4f0283",
   "metadata": {},
   "source": []
  }
 ],
 "metadata": {
  "language_info": {
   "name": "python"
  }
 },
 "nbformat": 4,
 "nbformat_minor": 5
}
