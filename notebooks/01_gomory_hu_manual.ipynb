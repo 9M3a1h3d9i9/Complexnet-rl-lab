{
 "cells": [
  {
   "cell_type": "markdown",
   "id": "6533b61e",
   "metadata": {},
   "source": [
    "# In the name of Allah\n",
    "\n",
    "### MmSh . 2025.10.25 . Gomory-Hu Manual "
   ]
  },
  {
   "cell_type": "markdown",
   "id": "a12ae3f2",
   "metadata": {},
   "source": [
    "هدف این نوت‌بوک: \n",
    "\n",
    "\n",
    "پیاده‌سازی دستی الگوریتم ادمون-کارپ برای \"ماکزیمم جریان - مینیم برش\" و سپس الگوریتم گوموری–هو، روی یک گراف 15 نودی، بدون استفاده از کتابخانه‌های گراف آماده."
   ]
  },
  {
   "cell_type": "code",
   "execution_count": null,
   "id": "21cf75a7",
   "metadata": {},
   "outputs": [],
   "source": []
  },
  {
   "cell_type": "markdown",
   "id": "ed4f0283",
   "metadata": {},
   "source": [
    "### اضافه کردن مسیر ریشه پروژه به sys.path\n",
    "\n",
    "پایتون باید بداند که src یک پکیج است و مسیر آن در \n",
    "\n",
    "sys.path \n",
    "\n",
    "وجود دارد. اما در نوت‌بوک‌ها \n",
    "\n",
    "(مثل Jupyter یا VS Code)،\n",
    "\n",
    " مسیر جاری معمولاً پوشه‌ی \n",
    " \n",
    " notebooks/ \n",
    " \n",
    " است، نه ریشه‌ی پروژه. بنابراین پایتون نمی‌تواند \n",
    " \n",
    " src \n",
    " \n",
    " را پیدا کند.\n"
   ]
  },
  {
   "cell_type": "code",
   "execution_count": 10,
   "id": "044a8687",
   "metadata": {},
   "outputs": [],
   "source": [
    "import sys\n",
    "import os\n",
    "\n",
    "project_root = os.path.abspath(os.path.join(os.getcwd(), \"..\"))\n",
    "\n",
    "if project_root not in sys.path:\n",
    "    sys.path.insert(0, project_root)"
   ]
  },
  {
   "cell_type": "code",
   "execution_count": null,
   "id": "410a5798",
   "metadata": {},
   "outputs": [
    {
     "ename": "ImportError",
     "evalue": "cannot import name 'build_nx_graph_15' from 'src.nx_graph_15' (d:\\Complexnet-rl-lab\\src\\nx_graph_15.py)",
     "output_type": "error",
     "traceback": [
      "\u001b[31m---------------------------------------------------------------------------\u001b[39m",
      "\u001b[31mImportError\u001b[39m                               Traceback (most recent call last)",
      "\u001b[36mCell\u001b[39m\u001b[36m \u001b[39m\u001b[32mIn[11]\u001b[39m\u001b[32m, line 1\u001b[39m\n\u001b[32m----> \u001b[39m\u001b[32m1\u001b[39m \u001b[38;5;28;01mfrom\u001b[39;00m\u001b[38;5;250m \u001b[39m\u001b[34;01msrc\u001b[39;00m\u001b[34;01m.\u001b[39;00m\u001b[34;01mnx_graph_15\u001b[39;00m\u001b[38;5;250m \u001b[39m\u001b[38;5;28;01mimport\u001b[39;00m build_nx_graph_15\n\u001b[32m      2\u001b[39m \u001b[38;5;28;01mfrom\u001b[39;00m\u001b[38;5;250m \u001b[39m\u001b[34;01msrc\u001b[39;00m\u001b[34;01m.\u001b[39;00m\u001b[34;01mto_capacity_matrix\u001b[39;00m\u001b[38;5;250m \u001b[39m\u001b[38;5;28;01mimport\u001b[39;00m nx_to_capacity_matrix\n\u001b[32m      4\u001b[39m G = build_nx_graph_15()\n",
      "\u001b[31mImportError\u001b[39m: cannot import name 'build_nx_graph_15' from 'src.nx_graph_15' (d:\\Complexnet-rl-lab\\src\\nx_graph_15.py)"
     ]
    }
   ],
   "source": [
    "from src.nx_graph_15 import build_nx_graph_15\n",
    "from src.to_capacity_matrix import nx_to_capacity_matrix\n",
    "\n",
    "G = build_nx_graph_15()\n",
    "C = nx_to_capacity_matrix(G)\n"
   ]
  },
  {
   "cell_type": "markdown",
   "id": "9c78a3bb",
   "metadata": {},
   "source": [
    "* این کار باعث می‌شود پایتون بتواند src را به‌عنوان پکیج بشناسد\n"
   ]
  },
  {
   "cell_type": "code",
   "execution_count": null,
   "id": "d926580e",
   "metadata": {},
   "outputs": [
    {
     "name": "stdout",
     "output_type": "stream",
     "text": [
      "\n",
      "\n"
     ]
    }
   ],
   "source": [
    "from src.edmonds_karp import edmonds_karp_max_flow\n",
    "from src.edmonds_karp import min_cut_from_flow\n",
    "\n",
    "max_flow , flow = edmonds_karp_max_flow(C, s=0, t=10)\n",
    "print(\"Max flow from 0 to 10:\", max_flow)\n",
    "\n",
    "S, T = min_cut_from_flow(C, flow, s=0)\n",
    "print(\"Min-cut patition: S=\", S, \"T =\", T)"
   ]
  }
 ],
 "metadata": {
  "kernelspec": {
   "display_name": "venv (3.11.9)",
   "language": "python",
   "name": "python3"
  },
  "language_info": {
   "codemirror_mode": {
    "name": "ipython",
    "version": 3
   },
   "file_extension": ".py",
   "mimetype": "text/x-python",
   "name": "python",
   "nbconvert_exporter": "python",
   "pygments_lexer": "ipython3",
   "version": "3.11.9"
  }
 },
 "nbformat": 4,
 "nbformat_minor": 5
}
