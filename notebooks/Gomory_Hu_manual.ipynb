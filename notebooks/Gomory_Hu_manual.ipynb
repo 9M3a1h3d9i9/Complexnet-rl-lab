{
  "nbformat": 4,
  "nbformat_minor": 0,
  "metadata": {
    "colab": {
      "provenance": []
    },
    "kernelspec": {
      "name": "python3",
      "display_name": "Python 3"
    },
    "language_info": {
      "name": "python"
    }
  },
  "cells": [
    {
      "cell_type": "markdown",
      "source": [
        "# In the name of Allah"
      ],
      "metadata": {
        "id": "3QQV14usUK4m"
      }
    },
    {
      "cell_type": "code",
      "source": [
        "!pip install networkx numpy\n",
        "\n",
        "import networkx as nx\n",
        "import numpy as np\n",
        "from collections import deque\n"
      ],
      "metadata": {
        "colab": {
          "base_uri": "https://localhost:8080/"
        },
        "id": "4mRRDiuXT097",
        "outputId": "926883ae-ae47-46b5-9e3d-458e0b0a98c5"
      },
      "execution_count": 2,
      "outputs": [
        {
          "output_type": "stream",
          "name": "stdout",
          "text": [
            "Requirement already satisfied: networkx in /usr/local/lib/python3.12/dist-packages (3.5)\n",
            "Requirement already satisfied: numpy in /usr/local/lib/python3.12/dist-packages (2.0.2)\n"
          ]
        }
      ]
    },
    {
      "cell_type": "markdown",
      "source": [
        "# Graph 15 nodes"
      ],
      "metadata": {
        "id": "VRNIhkq0UEZC"
      }
    },
    {
      "cell_type": "code",
      "source": [
        "\n",
        "def build_nx_graph_15():\n",
        "    G = nx.DiGraph()\n",
        "    G.add_nodes_from(range(15))\n",
        "\n",
        "    edges = [\n",
        "        (0,1,10),(0,2,8),(1,3,5),(2,3,6),(1,4,7),(2,5,7),\n",
        "        (3,6,10),(4,6,6),(5,6,6),(4,7,4),(5,8,4),\n",
        "        (6,9,12),(7,9,5),(8,9,5),(9,10,10),\n",
        "        (3,11,3),(11,12,4),(12,13,6),(13,14,8),\n",
        "        (10,7,2),(8,5,2),(5,2,1),(7,4,1)\n",
        "    ]\n",
        "\n",
        "    for u, v, c in edges:\n",
        "        G.add_edge(u, v, capacity=float(c))\n",
        "        if not G.has_edge(v, u):\n",
        "            G.add_edge(v, u, capacity=float(0.5 * c))\n",
        "\n",
        "    return G\n",
        "\n",
        "# تست سریع\n",
        "G = build_nx_graph_15()\n",
        "print(\"Graph created with\", G.number_of_nodes(), \"nodes and\", G.number_of_edges(), \"edges.\")\n"
      ],
      "metadata": {
        "colab": {
          "base_uri": "https://localhost:8080/"
        },
        "id": "E7a47J2DT1d3",
        "outputId": "f9c28131-d7e5-44c0-b878-401de3b63c55"
      },
      "execution_count": 5,
      "outputs": [
        {
          "output_type": "stream",
          "name": "stdout",
          "text": [
            "Graph created with 15 nodes and 40 edges.\n"
          ]
        }
      ]
    },
    {
      "cell_type": "markdown",
      "source": [
        "## تبدیل گراف به ماتریس ظرفیت"
      ],
      "metadata": {
        "id": "3pv66Vc8UWN5"
      }
    },
    {
      "cell_type": "code",
      "source": [
        "\n",
        "def nx_to_capacity_matrix(G: nx.DiGraph) -> np.ndarray:\n",
        "    n = G.number_of_nodes()\n",
        "    C = np.zeros((n, n), dtype=float)\n",
        "    for u, v, data in G.edges(data=True):\n",
        "        C[u, v] = data.get(\"capacity\", 0.0)\n",
        "    return C\n",
        "\n",
        "C = nx_to_capacity_matrix(G)\n",
        "print(\"Capacity matrix shape:\", C.shape)\n"
      ],
      "metadata": {
        "colab": {
          "base_uri": "https://localhost:8080/"
        },
        "id": "xt6QC9VKUDt5",
        "outputId": "82b24b13-d5ad-4196-9fb7-402ce9986b20"
      },
      "execution_count": 7,
      "outputs": [
        {
          "output_type": "stream",
          "name": "stdout",
          "text": [
            "Capacity matrix shape: (15, 15)\n"
          ]
        }
      ]
    },
    {
      "cell_type": "markdown",
      "source": [
        "## Edmonds–Karp Algo"
      ],
      "metadata": {
        "id": "GDUQ8EZIUdbp"
      }
    },
    {
      "cell_type": "code",
      "source": [
        "# =========================\n",
        "# 📦 Cell 4: الگوریتم\n",
        "# =========================\n",
        "\n",
        "def bfs_augmenting_path(cap: np.ndarray, flow: np.ndarray, s: int, t: int):\n",
        "    n = cap.shape[0]\n",
        "    parent = [-1] * n\n",
        "    parent[s] = s\n",
        "    q = deque([s])\n",
        "\n",
        "    while q:\n",
        "        u = q.popleft()\n",
        "        for v in range(n):\n",
        "            residual = cap[u, v] - flow[u, v]\n",
        "            if residual > 1e-6 and parent[v] == -1:\n",
        "                parent[v] = u\n",
        "                if v == t:\n",
        "                    path = []\n",
        "                    bottleneck = float('inf')\n",
        "                    cur = t\n",
        "                    while cur != s:\n",
        "                        prev = parent[cur]\n",
        "                        path.append((prev, cur))\n",
        "                        bottleneck = min(bottleneck, cap[prev, cur] - flow[prev, cur])\n",
        "                        cur = prev\n",
        "                    path.reverse()\n",
        "                    return path, bottleneck\n",
        "                q.append(v)\n",
        "    return [], 0.0\n",
        "\n",
        "def edmonds_karp_max_flow(cap: np.ndarray, s: int, t: int):\n",
        "    n = cap.shape[0]\n",
        "    flow = np.zeros((n, n), dtype=float)\n",
        "    maxflow = 0.0\n",
        "\n",
        "    while True:\n",
        "        path, bottleneck = bfs_augmenting_path(cap, flow, s, t)\n",
        "        if bottleneck == 0.0:\n",
        "            break\n",
        "        maxflow += bottleneck\n",
        "        for u, v in path:\n",
        "            flow[u, v] += bottleneck\n",
        "            flow[v, u] -= bottleneck\n",
        "    return maxflow, flow\n",
        "\n",
        "def min_cut_from_flow(cap: np.ndarray, flow: np.ndarray, s: int):\n",
        "    n = cap.shape[0]\n",
        "    visited = [False] * n\n",
        "    stack = [s]\n",
        "    visited[s] = True\n",
        "\n",
        "    while stack:\n",
        "        u = stack.pop()\n",
        "        for v in range(n):\n",
        "            residual = cap[u, v] - flow[u, v]\n",
        "            if residual > 1e-6 and not visited[v]:\n",
        "                visited[v] = True\n",
        "                stack.append(v)\n",
        "\n",
        "    S = [i for i in range(n) if visited[i]]\n",
        "    T = [i for i in range(n) if not visited[i]]\n",
        "    return S, T\n"
      ],
      "metadata": {
        "id": "xCxkA4c3UbLK"
      },
      "execution_count": 8,
      "outputs": []
    },
    {
      "cell_type": "markdown",
      "source": [
        "## Final Test"
      ],
      "metadata": {
        "id": "ZHvEEGd2UiH7"
      }
    },
    {
      "cell_type": "code",
      "source": [
        "source, sink = 0, 10\n",
        "maxflow, flow = edmonds_karp_max_flow(C, s=source, t=sink)\n",
        "print(f\"✅ Max flow from {source} to {sink}:\", maxflow)\n",
        "\n",
        "S, T = min_cut_from_flow(C, flow, s=source)\n",
        "print(\"✅ Min-cut partition:\")\n",
        "print(\"S =\", S)\n",
        "print(\"T =\", T)"
      ],
      "metadata": {
        "colab": {
          "base_uri": "https://localhost:8080/"
        },
        "id": "ciWq2f7EUUPM",
        "outputId": "50672013-4dc4-4e61-ebab-e494299d005e"
      },
      "execution_count": 9,
      "outputs": [
        {
          "output_type": "stream",
          "name": "stdout",
          "text": [
            "✅ Max flow from 0 to 10: 11.0\n",
            "✅ Min-cut partition:\n",
            "S = [0, 1, 2, 3, 4, 5, 6, 7, 8, 9, 11, 12, 13, 14]\n",
            "T = [10]\n"
          ]
        }
      ]
    },
    {
      "cell_type": "code",
      "source": [],
      "metadata": {
        "id": "rPP0CzkyUoC2"
      },
      "execution_count": null,
      "outputs": []
    }
  ]
}